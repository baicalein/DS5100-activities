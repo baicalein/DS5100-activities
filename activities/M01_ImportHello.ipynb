{
 "cells": [
  {
   "cell_type": "markdown",
   "id": "7a39eabb-1c32-4a6c-858c-a1b105938315",
   "metadata": {},
   "source": [
    "# Hello Exercise\n",
    "\n",
    "Students fork and clone the course repo, then create a file in a specified directory of their local repo.\n",
    "\n",
    "After that they push it to the remote and then initiate a pull request.\n",
    "\n",
    "These requests are merged and then pulled locally here. \n",
    "\n",
    "The results are aggregated and printed below."
   ]
  },
  {
   "cell_type": "code",
   "execution_count": 1,
   "id": "aaaaa06a-7fd7-483b-8707-0fd4b3231363",
   "metadata": {
    "tags": []
   },
   "outputs": [],
   "source": [
    "import glob\n",
    "import pandas as pd"
   ]
  },
  {
   "cell_type": "code",
   "execution_count": 2,
   "id": "1f71bcb5-9fbf-41ea-ba8d-8b8ad0019e0b",
   "metadata": {
    "tags": []
   },
   "outputs": [],
   "source": [
    "data = []\n",
    "files = glob.glob(\"./hello/*_*.txt\")"
   ]
  },
  {
   "cell_type": "code",
   "execution_count": 3,
   "id": "05b45ad7-d400-4e55-8eb4-da0cc7d851f8",
   "metadata": {
    "tags": []
   },
   "outputs": [
    {
     "data": {
      "text/plain": [
       "'./hello/hm7qgr_hello.txt'"
      ]
     },
     "execution_count": 3,
     "metadata": {},
     "output_type": "execute_result"
    }
   ],
   "source": [
    "files[0]"
   ]
  },
  {
   "cell_type": "code",
   "execution_count": 4,
   "id": "70f85b50-7275-4819-b0ac-566ffc84d24b",
   "metadata": {
    "tags": []
   },
   "outputs": [
    {
     "name": "stdout",
     "output_type": "stream",
     "text": [
      "32\n"
     ]
    }
   ],
   "source": [
    "print(len(files))"
   ]
  },
  {
   "cell_type": "code",
   "execution_count": 5,
   "id": "3576e753-ce37-409d-ae52-9c3a6dd22834",
   "metadata": {
    "tags": []
   },
   "outputs": [],
   "source": [
    "n_students = 67"
   ]
  },
  {
   "cell_type": "code",
   "execution_count": 6,
   "id": "e2f371fc-53e6-4053-b4a2-0bce5f4ebd58",
   "metadata": {
    "tags": []
   },
   "outputs": [
    {
     "data": {
      "text/plain": [
       "35"
      ]
     },
     "execution_count": 6,
     "metadata": {},
     "output_type": "execute_result"
    }
   ],
   "source": [
    "n_students - len(files)"
   ]
  },
  {
   "cell_type": "code",
   "execution_count": 7,
   "id": "4a44ab38-4c3e-4e17-a5cc-da98f8a84f0d",
   "metadata": {
    "tags": []
   },
   "outputs": [],
   "source": [
    "for i, file in enumerate(files):\n",
    "    sid = file.split(\"/\")[2].split(\"_\")[0]\n",
    "    line = open(file, 'r').read().strip()\n",
    "    row = (sid, line.replace('\\n', ' '))\n",
    "    data.append(row)"
   ]
  },
  {
   "cell_type": "code",
   "execution_count": 8,
   "id": "844d664a-9b5b-4d0f-93a0-c59e6ef621dd",
   "metadata": {
    "tags": []
   },
   "outputs": [
    {
     "data": {
      "text/plain": [
       "[('hm7qgr',\n",
       "  'I recently watched Inside Out 2 with a friend and enjoyed it since it had been a while since the first movie came out and the movie touched on the emotion, anxiety.'),\n",
       " ('fbv2ub', 'The most recent film I watched and enjoyed was Splinter.'),\n",
       " ('zhx9yf', 'Challengers'),\n",
       " ('hwq8mr',\n",
       "  'The most recent film I watched was Everything Everywhere All At Once, I really enjoyed it!'),\n",
       " ('jch7aa', 'I recently watched One Piece'),\n",
       " ('vsr9awc',\n",
       "  'The most recent film that I watched and enjoyed was Little Women. I watched it on the plane to Italy!'),\n",
       " ('mjk3ku',\n",
       "  'The last fimled that I have watched and enjoyed is the latest film in the Mad Max saga, Mad Max: Furiosa.'),\n",
       " ('spc6uz', 'A movie that I watched and enjoyed recently was \"Nope\"'),\n",
       " ('rpk3ve', 'The most recent film I watched and enjoyed is Exhuma.'),\n",
       " ('twf9xn',\n",
       "  'Question: In the file, introduce yourself by answering the question: What is the most recent film you watched and enjoyed? Answer: Lover Come Back (1962)'),\n",
       " ('car2r',\n",
       "  'Hello!  This is a test file for class.  The most recent movie that I watched was \"In the Court of the Crimson King\", a documentary about the band King Crimson'),\n",
       " ('mhe3sy',\n",
       "  'What is the most recent film you watched and enjoyed?  Most recently I watched an Indian movie called Srikanth, a story of blind man from poor family who became a successful business.'),\n",
       " ('zh2yn', 'The last movie I watched was \"Mission Impossible: Rogue Nation\"'),\n",
       " ('mm3dc', 'The most recent film I watched was Crew.'),\n",
       " ('hl9h',\n",
       "  'What is the most recent film you watched and enjoyed? Mission: Impossible – Dead Reckoning Part One'),\n",
       " ('jme3qd',\n",
       "  'What is the most recent film I watched and enjoyed?  Well, with a 19-month old, I don\\'t get too many opportunities to watch movies. However, one night he fell asleep early so my wife and I watched \"Anyone But You,\" which had just been added to netflix. As someone who doesn\\'t like romantic comedies, I was surprised to have actually enjoyed it. Maybe it\\'s just because I haven\\'t been able to watch a movie all the way through in a while though haha.a'),\n",
       " ('bmw8pt',\n",
       "  'Q: What is the most recent film you watched and enjoyed?  A: Dune Part 2'),\n",
       " ('wsr7qr',\n",
       "  'The last movie that I watched was Eternal Sunshine of the Spotless Mind. Algthough I have seen this numerouse times, this was the 20 year anniversary relaunch in theaters.'),\n",
       " ('jsk2zs',\n",
       "  \"I haven't watched any movies recently, but I watched the series Sprint on Netflix and enjoyed it.\"),\n",
       " ('zjh6fw', 'Love Island'),\n",
       " ('epx8hh',\n",
       "  \"Created a new file with nano! Hello! A recent movie I watched was a horror movie and I can't recall the name!\"),\n",
       " ('tfk6ua',\n",
       "  'Question: In the file, introduce yourself by answering the question: What is the most recent film you watched and enjoyed?  Answer: Problemista'),\n",
       " ('dnb7rz', 'Ghostbusters - Frozen Empire.  Fun mainstream movie.'),\n",
       " ('bnolton',\n",
       "  \"Hello, my name is Brian Nolton. I have a daughter who is almost 1 so I have not watched much of anything lately. I guess I'll say 'The Beekeeper.' I only watched that becuase I had time on an airplane...\"),\n",
       " ('sc8rg', 'The last film I watched was the horror/thriller movie Smile'),\n",
       " ('rzq2rk',\n",
       "  'The most recent film I watched and enjoyed is Shang-Chi and the Legend of the Ten Rings.'),\n",
       " ('ywe4kw',\n",
       "  \"Hello! I've recently been watching through House of the Dragon. I'm about to finish season 1!\"),\n",
       " ('bat7kt',\n",
       "  'I recently watched Jurassic Park, the original. Just as good as I remember it from years ago. Jeff Goldblum is, uhh, INCREDIBLE.'),\n",
       " ('vrb9e', 'The Holdovers'),\n",
       " ('nwiradiradja',\n",
       "  'The most recent film I watched and enjoyed was Now you see me 2'),\n",
       " ('cej2vh',\n",
       "  \"The most recent film I watched and enjoyed was a rewatch of Robert Zemeckis's 1992 classic, Death Becomes Her.\"),\n",
       " ('wpl3a', 'I have not seen a film recently.')]"
      ]
     },
     "execution_count": 8,
     "metadata": {},
     "output_type": "execute_result"
    }
   ],
   "source": [
    "data"
   ]
  },
  {
   "cell_type": "code",
   "execution_count": 9,
   "id": "d639031b-10ed-47ad-a3fd-87ddc9c91d74",
   "metadata": {
    "tags": []
   },
   "outputs": [],
   "source": [
    "df = pd.DataFrame(data, columns=['user_id','comment'])"
   ]
  },
  {
   "cell_type": "code",
   "execution_count": 10,
   "id": "10a21388-8fb6-499f-b7d0-b234de14218d",
   "metadata": {
    "tags": []
   },
   "outputs": [
    {
     "data": {
      "text/html": [
       "<div>\n",
       "<style scoped>\n",
       "    .dataframe tbody tr th:only-of-type {\n",
       "        vertical-align: middle;\n",
       "    }\n",
       "\n",
       "    .dataframe tbody tr th {\n",
       "        vertical-align: top;\n",
       "    }\n",
       "\n",
       "    .dataframe thead th {\n",
       "        text-align: right;\n",
       "    }\n",
       "</style>\n",
       "<table border=\"1\" class=\"dataframe\">\n",
       "  <thead>\n",
       "    <tr style=\"text-align: right;\">\n",
       "      <th></th>\n",
       "      <th>user_id</th>\n",
       "      <th>comment</th>\n",
       "    </tr>\n",
       "  </thead>\n",
       "  <tbody>\n",
       "    <tr>\n",
       "      <th>0</th>\n",
       "      <td>hm7qgr</td>\n",
       "      <td>I recently watched Inside Out 2 with a friend ...</td>\n",
       "    </tr>\n",
       "    <tr>\n",
       "      <th>1</th>\n",
       "      <td>fbv2ub</td>\n",
       "      <td>The most recent film I watched and enjoyed was...</td>\n",
       "    </tr>\n",
       "    <tr>\n",
       "      <th>2</th>\n",
       "      <td>zhx9yf</td>\n",
       "      <td>Challengers</td>\n",
       "    </tr>\n",
       "    <tr>\n",
       "      <th>3</th>\n",
       "      <td>hwq8mr</td>\n",
       "      <td>The most recent film I watched was Everything ...</td>\n",
       "    </tr>\n",
       "    <tr>\n",
       "      <th>4</th>\n",
       "      <td>jch7aa</td>\n",
       "      <td>I recently watched One Piece</td>\n",
       "    </tr>\n",
       "  </tbody>\n",
       "</table>\n",
       "</div>"
      ],
      "text/plain": [
       "  user_id                                            comment\n",
       "0  hm7qgr  I recently watched Inside Out 2 with a friend ...\n",
       "1  fbv2ub  The most recent film I watched and enjoyed was...\n",
       "2  zhx9yf                                        Challengers\n",
       "3  hwq8mr  The most recent film I watched was Everything ...\n",
       "4  jch7aa                       I recently watched One Piece"
      ]
     },
     "execution_count": 10,
     "metadata": {},
     "output_type": "execute_result"
    }
   ],
   "source": [
    "df.head()"
   ]
  },
  {
   "cell_type": "code",
   "execution_count": 11,
   "id": "5cebfb75-8ab2-4021-a88d-ef7f20e568c5",
   "metadata": {
    "tags": []
   },
   "outputs": [],
   "source": [
    "df.to_csv(\"movies.csv\")"
   ]
  },
  {
   "cell_type": "code",
   "execution_count": 12,
   "id": "9ec8280b-a44b-4cfa-bd40-9188012fa5a2",
   "metadata": {
    "tags": []
   },
   "outputs": [
    {
     "name": "stdout",
     "output_type": "stream",
     "text": [
      "00 | hm7qgr | I recently watched Inside Out 2 with a friend and enjoyed it since it had been a while since the first movie came out and the movie touched on the emotion, anxiety.\n",
      "01 | fbv2ub | The most recent film I watched and enjoyed was Splinter.\n",
      "02 | zhx9yf | Challengers\n",
      "03 | hwq8mr | The most recent film I watched was Everything Everywhere All At Once, I really enjoyed it!\n",
      "04 | jch7aa | I recently watched One Piece\n",
      "05 | vsr9awc | The most recent film that I watched and enjoyed was Little Women. I watched it on the plane to Italy!\n",
      "06 | mjk3ku | The last fimled that I have watched and enjoyed is the latest film in the Mad Max saga, Mad Max: Furiosa.\n",
      "07 | spc6uz | A movie that I watched and enjoyed recently was \"Nope\"\n",
      "08 | rpk3ve | The most recent film I watched and enjoyed is Exhuma.\n",
      "09 | twf9xn | Question: In the file, introduce yourself by answering the question: What is the most recent film you watched and enjoyed? Answer: Lover Come Back (1962)\n",
      "10 | car2r | Hello!  This is a test file for class.  The most recent movie that I watched was \"In the Court of the Crimson King\", a documentary about the band King Crimson\n",
      "11 | mhe3sy | What is the most recent film you watched and enjoyed?  Most recently I watched an Indian movie called Srikanth, a story of blind man from poor family who became a successful business.\n",
      "12 | zh2yn | The last movie I watched was \"Mission Impossible: Rogue Nation\"\n",
      "13 | mm3dc | The most recent film I watched was Crew.\n",
      "14 | hl9h | What is the most recent film you watched and enjoyed? Mission: Impossible – Dead Reckoning Part One\n",
      "15 | jme3qd | What is the most recent film I watched and enjoyed?  Well, with a 19-month old, I don't get too many opportunities to watch movies. However, one night he fell asleep early so my wife and I watched \"Anyone But You,\" which had just been added to netflix. As someone who doesn't like romantic comedies, I was surprised to have actually enjoyed it. Maybe it's just because I haven't been able to watch a movie all the way through in a while though haha.a\n",
      "16 | bmw8pt | Q: What is the most recent film you watched and enjoyed?  A: Dune Part 2\n",
      "17 | wsr7qr | The last movie that I watched was Eternal Sunshine of the Spotless Mind. Algthough I have seen this numerouse times, this was the 20 year anniversary relaunch in theaters.\n",
      "18 | jsk2zs | I haven't watched any movies recently, but I watched the series Sprint on Netflix and enjoyed it.\n",
      "19 | zjh6fw | Love Island\n",
      "20 | epx8hh | Created a new file with nano! Hello! A recent movie I watched was a horror movie and I can't recall the name!\n",
      "21 | tfk6ua | Question: In the file, introduce yourself by answering the question: What is the most recent film you watched and enjoyed?  Answer: Problemista\n",
      "22 | dnb7rz | Ghostbusters - Frozen Empire.  Fun mainstream movie.\n",
      "23 | bnolton | Hello, my name is Brian Nolton. I have a daughter who is almost 1 so I have not watched much of anything lately. I guess I'll say 'The Beekeeper.' I only watched that becuase I had time on an airplane...\n",
      "24 | sc8rg | The last film I watched was the horror/thriller movie Smile\n",
      "25 | rzq2rk | The most recent film I watched and enjoyed is Shang-Chi and the Legend of the Ten Rings.\n",
      "26 | ywe4kw | Hello! I've recently been watching through House of the Dragon. I'm about to finish season 1!\n",
      "27 | bat7kt | I recently watched Jurassic Park, the original. Just as good as I remember it from years ago. Jeff Goldblum is, uhh, INCREDIBLE.\n",
      "28 | vrb9e | The Holdovers\n",
      "29 | nwiradiradja | The most recent film I watched and enjoyed was Now you see me 2\n",
      "30 | cej2vh | The most recent film I watched and enjoyed was a rewatch of Robert Zemeckis's 1992 classic, Death Becomes Her.\n",
      "31 | wpl3a | I have not seen a film recently.\n"
     ]
    }
   ],
   "source": [
    "for i, r in enumerate(df.user_id + ' | ' + df.comment):\n",
    "    print(str(i).zfill(2), \"| \" + r)"
   ]
  },
  {
   "cell_type": "code",
   "execution_count": null,
   "id": "b8e2341f-8061-455b-b08d-7b553c7359f8",
   "metadata": {},
   "outputs": [],
   "source": []
  }
 ],
 "metadata": {
  "kernelspec": {
   "display_name": "Python 3",
   "language": "python",
   "name": "python3"
  },
  "language_info": {
   "codemirror_mode": {
    "name": "ipython",
    "version": 3
   },
   "file_extension": ".py",
   "mimetype": "text/x-python",
   "name": "python",
   "nbconvert_exporter": "python",
   "pygments_lexer": "ipython3",
   "version": "3.11.4"
  },
  "widgets": {
   "application/vnd.jupyter.widget-state+json": {
    "state": {},
    "version_major": 2,
    "version_minor": 0
   }
  }
 },
 "nbformat": 4,
 "nbformat_minor": 5
}
